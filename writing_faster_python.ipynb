{
 "cells": [
  {
   "cell_type": "code",
   "execution_count": 2,
   "id": "5963a181",
   "metadata": {},
   "outputs": [],
   "source": [
    "def ultimate_answer_to_life():\n",
    "    return 42"
   ]
  },
  {
   "cell_type": "code",
   "execution_count": 3,
   "id": "4e6f62be",
   "metadata": {},
   "outputs": [
    {
     "name": "stdout",
     "output_type": "stream",
     "text": [
      "60.4 ns ± 2.59 ns per loop (mean ± std. dev. of 7 runs, 10000000 loops each)\n"
     ]
    }
   ],
   "source": [
    "%timeit ultimate_answer_to_life()"
   ]
  },
  {
   "cell_type": "markdown",
   "id": "889f4a21",
   "metadata": {},
   "source": [
    "# 1 Count Elements in a List"
   ]
  },
  {
   "cell_type": "code",
   "execution_count": 1,
   "id": "d5b18eba",
   "metadata": {},
   "outputs": [],
   "source": [
    "import numpy as np"
   ]
  },
  {
   "cell_type": "code",
   "execution_count": 2,
   "id": "7f80d8c6",
   "metadata": {},
   "outputs": [],
   "source": [
    "ONE_MILLION_ELEMENTS = np.arange(1_000_000)"
   ]
  },
  {
   "cell_type": "code",
   "execution_count": 3,
   "id": "ece22e23",
   "metadata": {},
   "outputs": [],
   "source": [
    "ONE_MILLION_ELEMENTS = list(ONE_MILLION_ELEMENTS)"
   ]
  },
  {
   "cell_type": "code",
   "execution_count": 5,
   "id": "f522c275",
   "metadata": {},
   "outputs": [],
   "source": [
    "def count():\n",
    "    how_many = 0\n",
    "    for element in ONE_MILLION_ELEMENTS:\n",
    "        how_many += 1\n",
    "    return how_many"
   ]
  },
  {
   "cell_type": "code",
   "execution_count": 6,
   "id": "f4573c21",
   "metadata": {},
   "outputs": [
    {
     "name": "stdout",
     "output_type": "stream",
     "text": [
      "39.5 ms ± 2.81 ms per loop (mean ± std. dev. of 7 runs, 10 loops each)\n"
     ]
    }
   ],
   "source": [
    "%timeit count()"
   ]
  },
  {
   "cell_type": "code",
   "execution_count": 7,
   "id": "8e4a06ec",
   "metadata": {},
   "outputs": [
    {
     "name": "stdout",
     "output_type": "stream",
     "text": [
      "68.4 ns ± 3.64 ns per loop (mean ± std. dev. of 7 runs, 10000000 loops each)\n"
     ]
    }
   ],
   "source": [
    "%timeit len(ONE_MILLION_ELEMENTS)"
   ]
  },
  {
   "cell_type": "code",
   "execution_count": 8,
   "id": "94164624",
   "metadata": {},
   "outputs": [
    {
     "name": "stdout",
     "output_type": "stream",
     "text": [
      "577485.380116959 times faster\n"
     ]
    }
   ],
   "source": [
    "print(f\"{39.5 * 1000 * 1000 / 68.4} times faster\")"
   ]
  },
  {
   "cell_type": "code",
   "execution_count": null,
   "id": "0796fc23",
   "metadata": {},
   "outputs": [],
   "source": []
  }
 ],
 "metadata": {
  "kernelspec": {
   "display_name": "Python 3",
   "language": "python",
   "name": "python3"
  },
  "language_info": {
   "codemirror_mode": {
    "name": "ipython",
    "version": 3
   },
   "file_extension": ".py",
   "mimetype": "text/x-python",
   "name": "python",
   "nbconvert_exporter": "python",
   "pygments_lexer": "ipython3",
   "version": "3.8.8"
  }
 },
 "nbformat": 4,
 "nbformat_minor": 5
}
