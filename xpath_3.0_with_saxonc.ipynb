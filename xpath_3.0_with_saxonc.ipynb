{
 "cells": [
  {
   "cell_type": "code",
   "execution_count": 1,
   "id": "d1f1aa21",
   "metadata": {},
   "outputs": [],
   "source": [
    "# this file is downloaded from:\n",
    "# https://www.w3schools.com/xml/cd_catalog.xml\n",
    "with open(\"cd_catalog.xml\", \"rb\") as f:\n",
    "    xml_str = f.read()"
   ]
  },
  {
   "cell_type": "code",
   "execution_count": 2,
   "id": "95b784f5",
   "metadata": {},
   "outputs": [],
   "source": [
    "import sys"
   ]
  },
  {
   "cell_type": "code",
   "execution_count": 3,
   "id": "aa3b4c60",
   "metadata": {},
   "outputs": [],
   "source": [
    "sys.path.append(r\"C:\\Program Files\\Saxonica\\SaxonHEC1.2.1\\Saxon.C.API\\python-saxon\")"
   ]
  },
  {
   "cell_type": "code",
   "execution_count": 4,
   "id": "ff38fc8e",
   "metadata": {},
   "outputs": [],
   "source": [
    "import saxonc"
   ]
  },
  {
   "cell_type": "code",
   "execution_count": null,
   "id": "021972f3",
   "metadata": {},
   "outputs": [],
   "source": []
  },
  {
   "cell_type": "code",
   "execution_count": null,
   "id": "3cfed3fc",
   "metadata": {},
   "outputs": [],
   "source": []
  },
  {
   "cell_type": "code",
   "execution_count": 6,
   "id": "b4554816",
   "metadata": {},
   "outputs": [],
   "source": [
    "proc = saxonc.PySaxonProcessor(license=False)"
   ]
  },
  {
   "cell_type": "code",
   "execution_count": 7,
   "id": "8fe165a1",
   "metadata": {},
   "outputs": [
    {
     "name": "stdout",
     "output_type": "stream",
     "text": [
      "Saxon/C 1.2.1 running with Saxon-HE 9.9.1.5C from Saxonica\n"
     ]
    }
   ],
   "source": [
    "print(proc.version)"
   ]
  },
  {
   "cell_type": "code",
   "execution_count": 8,
   "id": "08913f73",
   "metadata": {},
   "outputs": [],
   "source": [
    "xdmAtomicval = proc.make_boolean_value(False)"
   ]
  },
  {
   "cell_type": "code",
   "execution_count": 13,
   "id": "11ca08cd",
   "metadata": {},
   "outputs": [],
   "source": [
    "document = proc.parse_xml(xml_file_name='cd_catalog.xml')"
   ]
  },
  {
   "cell_type": "code",
   "execution_count": null,
   "id": "62bcc837",
   "metadata": {},
   "outputs": [],
   "source": []
  },
  {
   "cell_type": "code",
   "execution_count": 14,
   "id": "60991049",
   "metadata": {},
   "outputs": [
    {
     "data": {
      "text/plain": [
       "saxonc.PyXdmNode"
      ]
     },
     "execution_count": 14,
     "metadata": {},
     "output_type": "execute_result"
    }
   ],
   "source": [
    "type(document)"
   ]
  },
  {
   "cell_type": "code",
   "execution_count": 15,
   "id": "6be58250",
   "metadata": {},
   "outputs": [
    {
     "data": {
      "text/plain": [
       "[]"
      ]
     },
     "execution_count": 15,
     "metadata": {},
     "output_type": "execute_result"
    }
   ],
   "source": [
    "document.attributes"
   ]
  },
  {
   "cell_type": "code",
   "execution_count": 16,
   "id": "61d0b7c1",
   "metadata": {},
   "outputs": [],
   "source": [
    "xp = proc.new_xpath_processor()\n",
    "xp.declare_namespace(\"math\", \"http://exslt.org/math\")"
   ]
  },
  {
   "cell_type": "code",
   "execution_count": 17,
   "id": "9009c2f2",
   "metadata": {},
   "outputs": [],
   "source": [
    "xp.declare_namespace(\"map\", \"http://www.w3.org/2005/xpath-functions/map\")"
   ]
  },
  {
   "cell_type": "code",
   "execution_count": 18,
   "id": "9baf3e61",
   "metadata": {},
   "outputs": [],
   "source": [
    "xp.set_context(xdm_item=document)"
   ]
  },
  {
   "cell_type": "code",
   "execution_count": 19,
   "id": "cd53f325",
   "metadata": {},
   "outputs": [],
   "source": [
    "item = xp.evaluate_single(\"/CATALOG/CD/ARTIST\")"
   ]
  },
  {
   "cell_type": "code",
   "execution_count": 20,
   "id": "0f7937d3",
   "metadata": {},
   "outputs": [
    {
     "data": {
      "text/plain": [
       "'Bob Dylan'"
      ]
     },
     "execution_count": 20,
     "metadata": {},
     "output_type": "execute_result"
    }
   ],
   "source": [
    "item.string_value"
   ]
  },
  {
   "cell_type": "code",
   "execution_count": 21,
   "id": "70505674",
   "metadata": {},
   "outputs": [
    {
     "data": {
      "text/plain": [
       "adsf asdf"
      ]
     },
     "execution_count": 21,
     "metadata": {},
     "output_type": "execute_result"
    }
   ],
   "source": [
    "xp.evaluate(\"normalize-space('adsf\\nasdf')\")"
   ]
  },
  {
   "cell_type": "markdown",
   "id": "5d40c4cb",
   "metadata": {},
   "source": [
    "# Speed"
   ]
  },
  {
   "cell_type": "code",
   "execution_count": 40,
   "id": "7cb6eac4",
   "metadata": {},
   "outputs": [
    {
     "data": {
      "text/plain": [
       "Empire BurlesqueHide your heartGreatest HitsStill got the blues"
      ]
     },
     "execution_count": 40,
     "metadata": {},
     "output_type": "execute_result"
    }
   ],
   "source": [
    "xp.evaluate(\"/CATALOG/CD[position()<5]/TITLE/text()\")"
   ]
  },
  {
   "cell_type": "code",
   "execution_count": null,
   "id": "31f53772",
   "metadata": {},
   "outputs": [],
   "source": []
  },
  {
   "cell_type": "code",
   "execution_count": 42,
   "id": "398d613d",
   "metadata": {},
   "outputs": [
    {
     "name": "stdout",
     "output_type": "stream",
     "text": [
      "68.8 µs ± 7.53 µs per loop (mean ± std. dev. of 7 runs, 10000 loops each)\n"
     ]
    }
   ],
   "source": [
    "%timeit xp.evaluate(\"CD[position()<5]/TITLE/text()\")"
   ]
  },
  {
   "cell_type": "markdown",
   "id": "46639af2",
   "metadata": {},
   "source": [
    "# Variable declaration"
   ]
  },
  {
   "cell_type": "markdown",
   "id": "5ecabec9",
   "metadata": {},
   "source": [
    "Variable declaration is the most exciting feature introduced to XPath 3.0/3.1, compared to XPath 2.0."
   ]
  },
  {
   "cell_type": "code",
   "execution_count": 35,
   "id": "20484661",
   "metadata": {},
   "outputs": [],
   "source": [
    "xpath=\"\"\"\n",
    "let $x := index-of(/CATALOG/CD, /CATALOG/CD[TITLE/text()='Greatest Hits']),\n",
    "$y := index-of(/CATALOG/CD, /CATALOG/CD[TITLE/text()='One night only'])\n",
    "return /CATALOG/CD[position()>=$x and position()<=$y]\n",
    "\"\"\""
   ]
  },
  {
   "cell_type": "code",
   "execution_count": 36,
   "id": "517de6b8",
   "metadata": {},
   "outputs": [
    {
     "data": {
      "text/plain": [
       "<CD>\n",
       "   <TITLE>Greatest Hits</TITLE>\n",
       "   <ARTIST>Dolly Parton</ARTIST>\n",
       "   <COUNTRY>USA</COUNTRY>\n",
       "   <COMPANY>RCA</COMPANY>\n",
       "   <PRICE>9.90</PRICE>\n",
       "   <YEAR>1982</YEAR>\n",
       "</CD><CD>\n",
       "   <TITLE>Still got the blues</TITLE>\n",
       "   <ARTIST>Gary Moore</ARTIST>\n",
       "   <COUNTRY>UK</COUNTRY>\n",
       "   <COMPANY>Virgin records</COMPANY>\n",
       "   <PRICE>10.20</PRICE>\n",
       "   <YEAR>1990</YEAR>\n",
       "</CD><CD>\n",
       "   <TITLE>Eros</TITLE>\n",
       "   <ARTIST>Eros Ramazzotti</ARTIST>\n",
       "   <COUNTRY>EU</COUNTRY>\n",
       "   <COMPANY>BMG</COMPANY>\n",
       "   <PRICE>9.90</PRICE>\n",
       "   <YEAR>1997</YEAR>\n",
       "</CD><CD>\n",
       "   <TITLE>One night only</TITLE>\n",
       "   <ARTIST>Bee Gees</ARTIST>\n",
       "   <COUNTRY>UK</COUNTRY>\n",
       "   <COMPANY>Polydor</COMPANY>\n",
       "   <PRICE>10.90</PRICE>\n",
       "   <YEAR>1998</YEAR>\n",
       "</CD>"
      ]
     },
     "execution_count": 36,
     "metadata": {},
     "output_type": "execute_result"
    }
   ],
   "source": [
    "xp.evaluate(xpath)"
   ]
  },
  {
   "cell_type": "code",
   "execution_count": 43,
   "id": "31aff8fd",
   "metadata": {},
   "outputs": [
    {
     "name": "stdout",
     "output_type": "stream",
     "text": [
      "301 µs ± 11.2 µs per loop (mean ± std. dev. of 7 runs, 1000 loops each)\n"
     ]
    }
   ],
   "source": [
    "%timeit xp.evaluate(xpath)"
   ]
  },
  {
   "cell_type": "code",
   "execution_count": 34,
   "id": "a030239a",
   "metadata": {},
   "outputs": [
    {
     "data": {
      "text/plain": [
       "'net.sf.saxon.s9api.SaxonApiException : expected \"$\", found name \"return\"'"
      ]
     },
     "execution_count": 34,
     "metadata": {},
     "output_type": "execute_result"
    }
   ],
   "source": [
    "xp.get_error_message(0)"
   ]
  },
  {
   "cell_type": "code",
   "execution_count": 22,
   "id": "9839c78c",
   "metadata": {},
   "outputs": [],
   "source": [
    "?xp.declare_namespace"
   ]
  },
  {
   "cell_type": "code",
   "execution_count": 23,
   "id": "1d25d9b2",
   "metadata": {},
   "outputs": [],
   "source": [
    "xp.evaluate(\"median((1,2,3,4))\")"
   ]
  },
  {
   "cell_type": "code",
   "execution_count": null,
   "id": "2a3abb70",
   "metadata": {},
   "outputs": [],
   "source": [
    "?xp.evaluate"
   ]
  },
  {
   "cell_type": "code",
   "execution_count": null,
   "id": "cfcbf531",
   "metadata": {},
   "outputs": [],
   "source": [
    "xp.exception_count()"
   ]
  },
  {
   "cell_type": "code",
   "execution_count": null,
   "id": "69d37ac9",
   "metadata": {},
   "outputs": [],
   "source": []
  },
  {
   "cell_type": "code",
   "execution_count": null,
   "id": "3d4d9dd5",
   "metadata": {},
   "outputs": [],
   "source": [
    "xp.get_error_message(0)"
   ]
  },
  {
   "cell_type": "code",
   "execution_count": null,
   "id": "92a62f8e",
   "metadata": {},
   "outputs": [],
   "source": [
    "xp.evaluate(\"if (//CD[1]/PRICE>//CD[2]/PRICE) then //CD[1]/TITLE/text() else //CD[2]/TITLE/text()\")"
   ]
  },
  {
   "cell_type": "code",
   "execution_count": null,
   "id": "9a296457",
   "metadata": {},
   "outputs": [],
   "source": [
    "xp.evaluate(\"map:size(CATALOG/CD)\")"
   ]
  },
  {
   "cell_type": "code",
   "execution_count": null,
   "id": "84f66ce0",
   "metadata": {},
   "outputs": [],
   "source": [
    "xp.evaluate(\"Q{http://www.w3.org/2005/xpath-functions/math}pi()\")"
   ]
  },
  {
   "cell_type": "code",
   "execution_count": null,
   "id": "d57faada",
   "metadata": {},
   "outputs": [],
   "source": [
    "xp.evaluate(\"math:pow(3,3)\")"
   ]
  },
  {
   "cell_type": "code",
   "execution_count": null,
   "id": "03069347",
   "metadata": {},
   "outputs": [],
   "source": [
    "xp.evaluate(\"'a' || 'b'\")"
   ]
  },
  {
   "cell_type": "code",
   "execution_count": null,
   "id": "81284d52",
   "metadata": {},
   "outputs": [],
   "source": [
    "xp.evaluate(\"'a b c d' => substring-before(' ') => upper-case()\")"
   ]
  },
  {
   "cell_type": "code",
   "execution_count": null,
   "id": "010ada61",
   "metadata": {},
   "outputs": [],
   "source": [
    "xp.evaluate(\"('curly', 'larry', 'moe') ! string-length(.) ! string(.) ! concat(. , ' ')\")"
   ]
  },
  {
   "cell_type": "code",
   "execution_count": null,
   "id": "04f5793b",
   "metadata": {},
   "outputs": [],
   "source": [
    "a = xp.evaluate(\"('curly', 'larry', 'moe') ! string-length(.)\")"
   ]
  },
  {
   "cell_type": "code",
   "execution_count": null,
   "id": "414fddf2",
   "metadata": {},
   "outputs": [],
   "source": [
    "type(a)"
   ]
  },
  {
   "cell_type": "code",
   "execution_count": null,
   "id": "b3734227",
   "metadata": {},
   "outputs": [],
   "source": [
    "a.size"
   ]
  },
  {
   "cell_type": "code",
   "execution_count": null,
   "id": "67fb5ec0",
   "metadata": {},
   "outputs": [],
   "source": [
    "a.item_at(0)"
   ]
  },
  {
   "cell_type": "code",
   "execution_count": null,
   "id": "fa22eb81",
   "metadata": {},
   "outputs": [],
   "source": [
    "xp.evaluate(\"//CD/TITLE/text() ! string-length(.) ! concat(., ' ')\")"
   ]
  },
  {
   "cell_type": "code",
   "execution_count": null,
   "id": "3546bb03",
   "metadata": {},
   "outputs": [],
   "source": [
    "xp.evaluate(\"'total investments (cost : 1234)' => substring-after('(') => substring-before(')') => upper-case()\")"
   ]
  },
  {
   "cell_type": "code",
   "execution_count": null,
   "id": "c8622f03",
   "metadata": {},
   "outputs": [],
   "source": [
    "xp.evaluate(\"upper-case(substring-before(substring-after('total investments (cost : 1234)', '('), ')'))\")"
   ]
  },
  {
   "cell_type": "code",
   "execution_count": null,
   "id": "ad468401",
   "metadata": {},
   "outputs": [],
   "source": [
    "xp.evaluate(\"//CD ! (' ' || TITLE/text() || ' _by_ ' || ARTIST/text() || '\\n')\")"
   ]
  },
  {
   "cell_type": "code",
   "execution_count": null,
   "id": "bda1efb4",
   "metadata": {},
   "outputs": [],
   "source": [
    "xp.get_error_message(0)"
   ]
  },
  {
   "cell_type": "code",
   "execution_count": null,
   "id": "31d4d210",
   "metadata": {},
   "outputs": [],
   "source": [
    "xp.evaluate(\"let $a := 'hi', $b := 'bye' return $a || ' ' || $b\")"
   ]
  },
  {
   "cell_type": "code",
   "execution_count": null,
   "id": "a8137225",
   "metadata": {},
   "outputs": [],
   "source": []
  }
 ],
 "metadata": {
  "kernelspec": {
   "display_name": "Python 3",
   "language": "python",
   "name": "python3"
  },
  "language_info": {
   "codemirror_mode": {
    "name": "ipython",
    "version": 3
   },
   "file_extension": ".py",
   "mimetype": "text/x-python",
   "name": "python",
   "nbconvert_exporter": "python",
   "pygments_lexer": "ipython3",
   "version": "3.8.8"
  }
 },
 "nbformat": 4,
 "nbformat_minor": 5
}
