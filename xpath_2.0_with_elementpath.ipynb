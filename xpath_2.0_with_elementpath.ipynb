{
 "cells": [
  {
   "cell_type": "markdown",
   "id": "ca9473d5",
   "metadata": {},
   "source": [
    "# Python XPath 2.0 with Elementpath\n",
    "\n",
    "The purpose of elementpath is to provide XPath 1.0 and XPath 2.0 selectors for Python's `ElementTree` and `lxml.etree` library.\n",
    "\n",
    "We can use elementpath to upgrade XPath 1.0 in `lxml` to XPath 2.0. This will be great helpful to existing projects using `lxml`.\n",
    "\n",
    "The usage is simple. Import elementpath and call elementpath.select() function to return a list of `lxml.etree._Element` objects.\n",
    "\n",
    "**Prerequisite**\n",
    "\n",
    "This article suppose you already know XPath 1.0.\n",
    "\n",
    "# Installing\n",
    "\n",
    "To install elementpath, just run the following pip command:\n",
    "\n",
    "```bash\n",
    "pip install elementpath\n",
    "```\n",
    "\n",
    "Now we can read in our `cd_catalog.xml` file (which is an example from w3cschool), and test XPath 2.0.\n",
    "\n",
    "The usage of elementpath is simple. You just replace `root.xpath(xpath)` with `elementpath.select(root, xpath)`. And the return type is `lxml.etree._Element`."
   ]
  },
  {
   "cell_type": "code",
   "execution_count": 103,
   "id": "e5ee8945",
   "metadata": {},
   "outputs": [
    {
     "name": "stdout",
     "output_type": "stream",
     "text": [
      "<class 'lxml.etree._Element'>\n"
     ]
    }
   ],
   "source": [
    "import elementpath\n",
    "from lxml import etree\n",
    "\n",
    "# this file is downloaded from:\n",
    "# https://www.w3schools.com/xml/cd_catalog.xml\n",
    "with open(\"cd_catalog.xml\", \"rb\") as f:\n",
    "    xml_str = f.read()\n",
    "\n",
    "root = etree.XML(xml_str)\n",
    "e = elementpath.select(root, \"CD[1]\")\n",
    "print(type(e[0]))"
   ]
  },
  {
   "cell_type": "markdown",
   "id": "0ef8b903",
   "metadata": {},
   "source": [
    "# Speed"
   ]
  },
  {
   "cell_type": "code",
   "execution_count": 13,
   "id": "73050173",
   "metadata": {},
   "outputs": [
    {
     "data": {
      "text/plain": [
       "['Empire Burlesque', 'Hide your heart', 'Greatest Hits', 'Still got the blues']"
      ]
     },
     "execution_count": 13,
     "metadata": {},
     "output_type": "execute_result"
    }
   ],
   "source": [
    "root.xpath(\"CD[position()<5]/TITLE/text()\")"
   ]
  },
  {
   "cell_type": "code",
   "execution_count": 14,
   "id": "bd58f647",
   "metadata": {
    "scrolled": true
   },
   "outputs": [
    {
     "data": {
      "text/plain": [
       "['Empire Burlesque', 'Hide your heart', 'Greatest Hits', 'Still got the blues']"
      ]
     },
     "execution_count": 14,
     "metadata": {},
     "output_type": "execute_result"
    }
   ],
   "source": [
    "elementpath.select(root, \"CD[position()<5]/TITLE/text()\")"
   ]
  },
  {
   "cell_type": "code",
   "execution_count": 93,
   "id": "6f7949f9",
   "metadata": {},
   "outputs": [
    {
     "name": "stdout",
     "output_type": "stream",
     "text": [
      "26.1 µs ± 1.12 µs per loop (mean ± std. dev. of 7 runs, 10000 loops each)\n"
     ]
    }
   ],
   "source": [
    "%timeit root.xpath(\"CD[position()<5]/TITLE/text()\")"
   ]
  },
  {
   "cell_type": "code",
   "execution_count": 92,
   "id": "06aee013",
   "metadata": {},
   "outputs": [
    {
     "name": "stdout",
     "output_type": "stream",
     "text": [
      "1.01 ms ± 23.5 µs per loop (mean ± std. dev. of 7 runs, 1000 loops each)\n"
     ]
    }
   ],
   "source": [
    "%timeit elementpath.select(root, \"CD[position()<5]/TITLE/text()\")"
   ]
  },
  {
   "cell_type": "markdown",
   "id": "24904fba",
   "metadata": {},
   "source": [
    "Elementpath is **40 times slower** than lxml. That is because this package is implemented using Python instead of Cython.\n",
    "\n",
    "For old projects with `lxml`, You should use it only when you need XPath 2.0 features. \n",
    "\n",
    "For new projects, you should consider [saxonc](https://www.saxonica.com/saxon-c/index.xml)."
   ]
  },
  {
   "cell_type": "markdown",
   "id": "3bb329db",
   "metadata": {},
   "source": [
    "# XPath 2.0 Types\n",
    "\n",
    "In XPath 1.0, there are only four types:\n",
    "\n",
    "* node-set\n",
    "* boolean\n",
    "* number (floating-point)\n",
    "* string\n",
    "\n",
    "While in XPath 2.0, there are dozens of them:\n",
    "\n",
    "![XPath 2.0 Types](https://www.w3.org/TR/xquery-operators/type-hierarchy.png)\n",
    "\n",
    "You can read the [official documents](https://www.w3.org/TR/xquery-operators) for details."
   ]
  },
  {
   "cell_type": "markdown",
   "id": "8add97fa",
   "metadata": {},
   "source": [
    "# XPath 2.0 Workflow Control\n",
    "\n",
    "The great upgrade, in my mind, is the workflow control introduced to XPath 2.0. This make XPath 2.0 more like a programming language. And a programming language is the thing that we are most familiar with. With workflow control in XPath 2.0, we can remove workflow control in Python, which is slow. In a project that uses XPath in configuration, this can be a game changer. \n",
    "\n",
    "## If Statement\n",
    "\n",
    "The if statement structure is：\n",
    "\n",
    "```\n",
    "if (condition)\n",
    "    then ... \n",
    "    else ...\n",
    "```\n",
    "\n",
    "As I tested, in the if statement, an else clause must be provided. However, we can feed an empty list if we do not want to return anything.\n",
    "\n",
    "The following xpath compares two values, returns the larger one."
   ]
  },
  {
   "cell_type": "code",
   "execution_count": 104,
   "id": "c195dd2f",
   "metadata": {},
   "outputs": [
    {
     "data": {
      "text/plain": [
       "['Empire Burlesque']"
      ]
     },
     "execution_count": 104,
     "metadata": {},
     "output_type": "execute_result"
    }
   ],
   "source": [
    "elementpath.select(root, \"if (CD[1]/PRICE>CD[2]/PRICE) then CD[1]/TITLE/text() else CD[2]/TITLE/text()\")"
   ]
  },
  {
   "cell_type": "code",
   "execution_count": 23,
   "id": "181a2ee2",
   "metadata": {},
   "outputs": [
    {
     "data": {
      "text/plain": [
       "[]"
      ]
     },
     "execution_count": 23,
     "metadata": {},
     "output_type": "execute_result"
    }
   ],
   "source": [
    "# compares two values, returns the first one, only if it is the smaller one.\n",
    "elementpath.select(root, \"if (CD[1]/PRICE<CD[2]/PRICE) then CD[1]/TITLE/text() else ()\")"
   ]
  },
  {
   "cell_type": "code",
   "execution_count": 9,
   "id": "9247f7f5",
   "metadata": {},
   "outputs": [
    {
     "data": {
      "text/plain": [
       "['Hide your heart']"
      ]
     },
     "execution_count": 9,
     "metadata": {},
     "output_type": "execute_result"
    }
   ],
   "source": [
    "# compares two values, returns the smaller one.\n",
    "elementpath.select(root, \"if (CD[1]/PRICE<CD[2]/PRICE) then CD[1]/TITLE/text() else CD[2]/TITLE/text()\")"
   ]
  },
  {
   "cell_type": "markdown",
   "id": "300f2fce",
   "metadata": {},
   "source": [
    "## For Statement\n",
    "\n",
    "In the for statement, you have to define a variable to represent the item in the list. The statement structure is:\n",
    "\n",
    "\n",
    "> for $x in *list* return ...\n"
   ]
  },
  {
   "cell_type": "code",
   "execution_count": 106,
   "id": "e4c6087e",
   "metadata": {},
   "outputs": [
    {
     "data": {
      "text/plain": [
       "['Empire Burlesque by Bob Dylan',\n",
       " 'Hide your heart by Bonnie Tyler',\n",
       " 'Greatest Hits by Dolly Parton',\n",
       " 'Still got the blues by Gary Moore']"
      ]
     },
     "execution_count": 106,
     "metadata": {},
     "output_type": "execute_result"
    }
   ],
   "source": [
    "elementpath.select(root, \"for $x in CD[position()<5] return concat($x/TITLE/text(), ' by ', $x/ARTIST/text())\")"
   ]
  },
  {
   "cell_type": "markdown",
   "id": "ffe162e7",
   "metadata": {},
   "source": [
    "## Quantifiers\n",
    "\n",
    "You can test some or every item in a list with whatever condition statement you want.\n",
    "\n",
    "\n",
    "> some/every $x in *list* satisfies *condition*\n"
   ]
  },
  {
   "cell_type": "code",
   "execution_count": 13,
   "id": "2dfa3415",
   "metadata": {},
   "outputs": [
    {
     "data": {
      "text/plain": [
       "True"
      ]
     },
     "execution_count": 13,
     "metadata": {},
     "output_type": "execute_result"
    }
   ],
   "source": [
    "elementpath.select(root, \"some $x in CD/ARTIST/text() satisfies $x='Bob Dylan'\")"
   ]
  },
  {
   "cell_type": "code",
   "execution_count": 14,
   "id": "bcddd689",
   "metadata": {},
   "outputs": [
    {
     "data": {
      "text/plain": [
       "True"
      ]
     },
     "execution_count": 14,
     "metadata": {},
     "output_type": "execute_result"
    }
   ],
   "source": [
    "# xpath 1.0 equavalent for the above\n",
    "root.xpath(\"count(CD/ARTIST[text()='Bob Dylan'])>0\")"
   ]
  },
  {
   "cell_type": "code",
   "execution_count": 15,
   "id": "8b955a7f",
   "metadata": {},
   "outputs": [
    {
     "data": {
      "text/plain": [
       "False"
      ]
     },
     "execution_count": 15,
     "metadata": {},
     "output_type": "execute_result"
    }
   ],
   "source": [
    "elementpath.select(root, \"every $x in CD/ARTIST/text() satisfies $x='Bob Dylan'\")"
   ]
  },
  {
   "cell_type": "code",
   "execution_count": 16,
   "id": "7e56def2",
   "metadata": {},
   "outputs": [
    {
     "data": {
      "text/plain": [
       "False"
      ]
     },
     "execution_count": 16,
     "metadata": {},
     "output_type": "execute_result"
    }
   ],
   "source": [
    "# xpath 1.0 equavalent for the above\n",
    "root.xpath(\"count(CD/ARTIST[text()='Bob Dylan'])=count(CD)\")"
   ]
  },
  {
   "cell_type": "code",
   "execution_count": 17,
   "id": "f4259b15",
   "metadata": {},
   "outputs": [
    {
     "data": {
      "text/plain": [
       "True"
      ]
     },
     "execution_count": 17,
     "metadata": {},
     "output_type": "execute_result"
    }
   ],
   "source": [
    "elementpath.select(root, \"every $x in CD/ARTIST/text() satisfies string-length($x)>2\")"
   ]
  },
  {
   "cell_type": "code",
   "execution_count": 18,
   "id": "cd8d2ff6",
   "metadata": {},
   "outputs": [
    {
     "data": {
      "text/plain": [
       "False"
      ]
     },
     "execution_count": 18,
     "metadata": {},
     "output_type": "execute_result"
    }
   ],
   "source": [
    "elementpath.select(root, \"every $x in CD/ARTIST/text() satisfies string-length($x)>4\")"
   ]
  },
  {
   "cell_type": "markdown",
   "id": "b7fe5760",
   "metadata": {},
   "source": [
    "# XPath 2.0 Sequence Operations\n",
    "\n",
    "In XPath 2.0, everything is a flatten and ordered sequence. \n",
    "\n",
    "## Union\n",
    "\n",
    "To Union two list, we can simply use comma. The repeated items are not removed."
   ]
  },
  {
   "cell_type": "code",
   "execution_count": 97,
   "id": "b0e80b01",
   "metadata": {},
   "outputs": [
    {
     "data": {
      "text/plain": [
       "[<Element CD at 0x1b27f326a40>,\n",
       " <Element CD at 0x1b27f326a40>,\n",
       " <Element CD at 0x1b27f326840>]"
      ]
     },
     "execution_count": 97,
     "metadata": {},
     "output_type": "execute_result"
    }
   ],
   "source": [
    "elementpath.select(root, \"(CD[position()<2], CD[position()<3])\")"
   ]
  },
  {
   "cell_type": "markdown",
   "id": "bba4f5f6",
   "metadata": {},
   "source": [
    "## Intersect\n",
    "\n",
    "Suppose we need a list from `Greatest Hits` to `One night only`. In XPath 1.0, this would be very tricky. However, in XPath 2.0, this will be much simpler. We just need to find out all following siblings for `Greatest Hits`, and then all preceding siblings for `One night only`, finally, we intersect the two."
   ]
  },
  {
   "cell_type": "code",
   "execution_count": 67,
   "id": "c7efff2f",
   "metadata": {},
   "outputs": [],
   "source": [
    "xpath=\"\"\"\n",
    "CD[TITLE/text()='Greatest Hits']/following-sibling::CD\n",
    "intersect\n",
    "CD[TITLE/text()='One night only']/preceding-sibling::CD\n",
    "\"\"\"\n",
    "elementpath.select(root, xpath)"
   ]
  },
  {
   "cell_type": "code",
   "execution_count": 68,
   "id": "d02a1f13",
   "metadata": {},
   "outputs": [
    {
     "data": {
      "text/plain": [
       "[<Element CD at 0x1b27f3a2d80>, <Element CD at 0x1b27f3a2e80>]"
      ]
     },
     "execution_count": 68,
     "metadata": {},
     "output_type": "execute_result"
    }
   ],
   "source": []
  },
  {
   "cell_type": "markdown",
   "id": "28475616",
   "metadata": {},
   "source": [
    "Well, this solution does not include the two book themselves. We need to union them."
   ]
  },
  {
   "cell_type": "code",
   "execution_count": 94,
   "id": "7896848d",
   "metadata": {},
   "outputs": [],
   "source": [
    "xpath=\"\"\"\n",
    "CD[TITLE/text()='Greatest Hits']/(self::CD|following-sibling::CD)\n",
    "intersect\n",
    "CD[TITLE/text()='One night only']/(self::CD|preceding-sibling::CD)\n",
    "\"\"\"\n",
    "elementpath.select(root, xpath)"
   ]
  },
  {
   "cell_type": "code",
   "execution_count": 95,
   "id": "5b6944b7",
   "metadata": {},
   "outputs": [
    {
     "data": {
      "text/plain": [
       "[<Element CD at 0x1b27f3a2a40>,\n",
       " <Element CD at 0x1b27f3a2d80>,\n",
       " <Element CD at 0x1b27f3a2e80>,\n",
       " <Element CD at 0x1b27f3a2f00>]"
      ]
     },
     "execution_count": 95,
     "metadata": {},
     "output_type": "execute_result"
    }
   ],
   "source": []
  },
  {
   "cell_type": "code",
   "execution_count": 90,
   "id": "0e83c7fb",
   "metadata": {},
   "outputs": [
    {
     "name": "stdout",
     "output_type": "stream",
     "text": [
      "8.82 ms ± 205 µs per loop (mean ± std. dev. of 7 runs, 100 loops each)\n"
     ]
    }
   ],
   "source": [
    "%timeit elementpath.select(root, xpath)"
   ]
  },
  {
   "cell_type": "markdown",
   "id": "501eaefc",
   "metadata": {},
   "source": [
    "This is still too heavy. "
   ]
  },
  {
   "cell_type": "markdown",
   "id": "b86c8488",
   "metadata": {},
   "source": [
    "## except \n",
    "The except keyword will filter out items we do not want. "
   ]
  },
  {
   "cell_type": "code",
   "execution_count": 34,
   "id": "0d5e1fc9",
   "metadata": {},
   "outputs": [
    {
     "data": {
      "text/plain": [
       "26"
      ]
     },
     "execution_count": 34,
     "metadata": {},
     "output_type": "execute_result"
    }
   ],
   "source": [
    "elementpath.select(root, \"count(CD)\")"
   ]
  },
  {
   "cell_type": "code",
   "execution_count": 35,
   "id": "71e8a06b",
   "metadata": {},
   "outputs": [
    {
     "data": {
      "text/plain": [
       "12"
      ]
     },
     "execution_count": 35,
     "metadata": {},
     "output_type": "execute_result"
    }
   ],
   "source": [
    "elementpath.select(root, \"count(CD except CD[YEAR/text()<1990])\")"
   ]
  },
  {
   "cell_type": "markdown",
   "id": "33684633",
   "metadata": {},
   "source": [
    "# XPath 2.0 Functions\n",
    "## Numeric Functions\n",
    "Firstly, the return type of numeric functions is different from XPath 1.0. We can see from the following example, `floor(3.2)` produce a decimal in XPath 2.0 but a float in XPath 1.0."
   ]
  },
  {
   "cell_type": "code",
   "execution_count": 38,
   "id": "ec6b6e41",
   "metadata": {},
   "outputs": [
    {
     "data": {
      "text/plain": [
       "Decimal('3')"
      ]
     },
     "execution_count": 38,
     "metadata": {},
     "output_type": "execute_result"
    }
   ],
   "source": [
    "elementpath.select(root, \"floor(3.2)\")"
   ]
  },
  {
   "cell_type": "code",
   "execution_count": 39,
   "id": "6dd657a7",
   "metadata": {},
   "outputs": [
    {
     "data": {
      "text/plain": [
       "3.0"
      ]
     },
     "execution_count": 39,
     "metadata": {},
     "output_type": "execute_result"
    }
   ],
   "source": [
    "# in xpath 1.0, the return type of float\n",
    "root.xpath(\"floor(3.2)\")"
   ]
  },
  {
   "cell_type": "markdown",
   "id": "84e6ba31",
   "metadata": {},
   "source": [
    "Some functions are new in XPath 2.0, like `abs` and `round-half-to-even`."
   ]
  },
  {
   "cell_type": "code",
   "execution_count": 40,
   "id": "99a88bca",
   "metadata": {},
   "outputs": [
    {
     "data": {
      "text/plain": [
       "Decimal('3.5')"
      ]
     },
     "execution_count": 40,
     "metadata": {},
     "output_type": "execute_result"
    }
   ],
   "source": [
    "elementpath.select(root, \"abs(-3.5)\")"
   ]
  },
  {
   "cell_type": "code",
   "execution_count": 41,
   "id": "cedf6cdb",
   "metadata": {},
   "outputs": [
    {
     "data": {
      "text/plain": [
       "Decimal('-4')"
      ]
     },
     "execution_count": 41,
     "metadata": {},
     "output_type": "execute_result"
    }
   ],
   "source": [
    "elementpath.select(root, \"round-half-to-even(-3.5)\")"
   ]
  },
  {
   "cell_type": "code",
   "execution_count": 107,
   "id": "0b3583da",
   "metadata": {},
   "outputs": [
    {
     "data": {
      "text/plain": [
       "Decimal('-2')"
      ]
     },
     "execution_count": 107,
     "metadata": {},
     "output_type": "execute_result"
    }
   ],
   "source": [
    "elementpath.select(root, \"round-half-to-even(-2.5)\")"
   ]
  },
  {
   "cell_type": "markdown",
   "id": "174db46c",
   "metadata": {},
   "source": [
    "## String Functions\n",
    "New string functions are added to XPath 2.0, like `string-join`, `normalze-space`, `upper-case`, `lower-case`."
   ]
  },
  {
   "cell_type": "code",
   "execution_count": 42,
   "id": "d5509f02",
   "metadata": {},
   "outputs": [
    {
     "data": {
      "text/plain": [
       "'Empire Burlesque, Hide your heart, Greatest Hits, Still got the blues, Eros, One night only, Sylvias Mother, Maggie May, Romanza, When a man loves a woman, Black angel, 1999 Grammy Nominees, For the good times, Big Willie style, Tupelo Honey, Soulsville, The very best of, Stop, Bridge of Spies, Private Dancer, Midt om natten, Pavarotti Gala Concert, The dock of the bay, Picture book, Red, Unchain my heart'"
      ]
     },
     "execution_count": 42,
     "metadata": {},
     "output_type": "execute_result"
    }
   ],
   "source": [
    "elementpath.select(root, \"string-join(CD/TITLE/text(), ', ')\")"
   ]
  },
  {
   "cell_type": "code",
   "execution_count": 43,
   "id": "9b0f2ba4",
   "metadata": {},
   "outputs": [
    {
     "data": {
      "text/plain": [
       "'abc d'"
      ]
     },
     "execution_count": 43,
     "metadata": {},
     "output_type": "execute_result"
    }
   ],
   "source": [
    "elementpath.select(root, \"normalize-space('abc\\nd')\")"
   ]
  },
  {
   "cell_type": "code",
   "execution_count": 44,
   "id": "d6e1b697",
   "metadata": {},
   "outputs": [
    {
     "data": {
      "text/plain": [
       "'ABCD'"
      ]
     },
     "execution_count": 44,
     "metadata": {},
     "output_type": "execute_result"
    }
   ],
   "source": [
    "elementpath.select(root, \"upper-case('abCD')\")"
   ]
  },
  {
   "cell_type": "code",
   "execution_count": 45,
   "id": "12d9902b",
   "metadata": {},
   "outputs": [
    {
     "data": {
      "text/plain": [
       "'abcd'"
      ]
     },
     "execution_count": 45,
     "metadata": {},
     "output_type": "execute_result"
    }
   ],
   "source": [
    "elementpath.select(root, \"lower-case('abCD')\")"
   ]
  },
  {
   "cell_type": "code",
   "execution_count": 46,
   "id": "c8100250",
   "metadata": {},
   "outputs": [
    {
     "data": {
      "text/plain": [
       "'as df'"
      ]
     },
     "execution_count": 46,
     "metadata": {},
     "output_type": "execute_result"
    }
   ],
   "source": [
    "elementpath.select(root, \"normalize-space('as\\ndf')\")"
   ]
  },
  {
   "cell_type": "markdown",
   "id": "41cd7803",
   "metadata": {},
   "source": [
    "## Regular Expression\n",
    "\n",
    "Regular Expression is another great update of XPath. It is not as great of workflow control because in XPath 1.0, we can still use regualr expressoin with [EXSLT](http://exslt.org/). But you will never be able to use workflow control in XPath 1.0. \n",
    "\n",
    "\n",
    "XPath 2.0 support `i`, `m`, `s` and `x` flags. while in EXSLT, the supported flags are `g` and `i`."
   ]
  },
  {
   "cell_type": "code",
   "execution_count": 112,
   "id": "f7562071",
   "metadata": {},
   "outputs": [
    {
     "data": {
      "text/plain": [
       "True"
      ]
     },
     "execution_count": 112,
     "metadata": {},
     "output_type": "execute_result"
    }
   ],
   "source": [
    "elementpath.select(root, r'matches(\"hello world\", \"hello\\sworld\")')"
   ]
  },
  {
   "cell_type": "code",
   "execution_count": 41,
   "id": "dc82f466",
   "metadata": {},
   "outputs": [
    {
     "data": {
      "text/plain": [
       "True"
      ]
     },
     "execution_count": 41,
     "metadata": {},
     "output_type": "execute_result"
    }
   ],
   "source": [
    "elementpath.select(root, 'matches(\"aabbcc\", \"aa\")')"
   ]
  },
  {
   "cell_type": "code",
   "execution_count": 42,
   "id": "5b494afc",
   "metadata": {},
   "outputs": [
    {
     "data": {
      "text/plain": [
       "'AAbbcc'"
      ]
     },
     "execution_count": 42,
     "metadata": {},
     "output_type": "execute_result"
    }
   ],
   "source": [
    "elementpath.select(root, 'replace(\"aabbcc\", \"aa\", \"AA\")')"
   ]
  },
  {
   "cell_type": "code",
   "execution_count": 43,
   "id": "fade0326",
   "metadata": {},
   "outputs": [
    {
     "data": {
      "text/plain": [
       "True"
      ]
     },
     "execution_count": 43,
     "metadata": {},
     "output_type": "execute_result"
    }
   ],
   "source": [
    "elementpath.select(root, r'matches(\"aaa aaa aaa\", \"([a-z]*) \\1 \\1\")')"
   ]
  },
  {
   "cell_type": "markdown",
   "id": "50bf197d",
   "metadata": {},
   "source": [
    "**Back-Reference** is different in pattern and replacement. In pattern, it is \\\\*n*, but in replacement it is $*n*.\n",
    "\n",
    "The following code find a word repeating three times and make it four times."
   ]
  },
  {
   "cell_type": "code",
   "execution_count": 50,
   "id": "8dd4882a",
   "metadata": {},
   "outputs": [
    {
     "data": {
      "text/plain": [
       "'Lucy is a good good good good girl'"
      ]
     },
     "execution_count": 50,
     "metadata": {},
     "output_type": "execute_result"
    }
   ],
   "source": [
    "elementpath.select(root, r'replace(\"Lucy is a good good good girl\", \"([a-z]*) \\1 \\1\", \"$1 $1 $1 $1\")')"
   ]
  },
  {
   "cell_type": "markdown",
   "id": "df648bba",
   "metadata": {},
   "source": [
    "**fn:tokenize**\n",
    "\n",
    "It is called split in other places."
   ]
  },
  {
   "cell_type": "code",
   "execution_count": 45,
   "id": "43e7c15b",
   "metadata": {},
   "outputs": [
    {
     "data": {
      "text/plain": [
       "['', 'r', 'c', 'd', 'r', '']"
      ]
     },
     "execution_count": 45,
     "metadata": {},
     "output_type": "execute_result"
    }
   ],
   "source": [
    "elementpath.select(root, r'fn:tokenize(\"abracadabra\", \"(ab)|(a)\")')"
   ]
  },
  {
   "cell_type": "markdown",
   "id": "b3ab61fb",
   "metadata": {},
   "source": [
    "## Sequence Functions"
   ]
  },
  {
   "cell_type": "code",
   "execution_count": 46,
   "id": "56dcccbc",
   "metadata": {},
   "outputs": [
    {
     "data": {
      "text/plain": [
       "['b', 'c']"
      ]
     },
     "execution_count": 46,
     "metadata": {},
     "output_type": "execute_result"
    }
   ],
   "source": [
    "elementpath.select(root, r'fn:remove((\"a\", \"b\", \"c\"), 1)')"
   ]
  },
  {
   "cell_type": "code",
   "execution_count": 47,
   "id": "96eb935c",
   "metadata": {},
   "outputs": [
    {
     "data": {
      "text/plain": [
       "['a', 'b', 'c']"
      ]
     },
     "execution_count": 47,
     "metadata": {},
     "output_type": "execute_result"
    }
   ],
   "source": [
    "elementpath.select(root, r'fn:distinct-values((\"a\", \"b\", \"c\", \"a\"))')"
   ]
  },
  {
   "cell_type": "code",
   "execution_count": 48,
   "id": "fbcde0d0",
   "metadata": {},
   "outputs": [
    {
     "data": {
      "text/plain": [
       "['d', 'c', 'b', 'a']"
      ]
     },
     "execution_count": 48,
     "metadata": {},
     "output_type": "execute_result"
    }
   ],
   "source": [
    "elementpath.select(root, r'fn:reverse((\"a\", \"b\", \"c\", \"d\"))')"
   ]
  },
  {
   "cell_type": "code",
   "execution_count": 49,
   "id": "37a2bef2",
   "metadata": {},
   "outputs": [
    {
     "data": {
      "text/plain": [
       "['b', 'c']"
      ]
     },
     "execution_count": 49,
     "metadata": {},
     "output_type": "execute_result"
    }
   ],
   "source": [
    "elementpath.select(root, r'subsequence((\"a\", \"b\", \"c\", \"d\"), 2, 2)')"
   ]
  },
  {
   "cell_type": "code",
   "execution_count": 50,
   "id": "ce22e042",
   "metadata": {},
   "outputs": [
    {
     "data": {
      "text/plain": [
       "'a'"
      ]
     },
     "execution_count": 50,
     "metadata": {},
     "output_type": "execute_result"
    }
   ],
   "source": [
    "elementpath.select(root, r'exactly-one((\"a\"))')"
   ]
  },
  {
   "cell_type": "code",
   "execution_count": null,
   "id": "8de9cabd",
   "metadata": {},
   "outputs": [],
   "source": []
  },
  {
   "cell_type": "markdown",
   "id": "1f2013c7",
   "metadata": {},
   "source": [
    "### Datetime Functions\n",
    "\n",
    "There are tons of datetime functions added to XPath 2.0, too. The following example add 1 year and 2 month to 2020-10-30."
   ]
  },
  {
   "cell_type": "code",
   "execution_count": 114,
   "id": "e5ad78e0",
   "metadata": {},
   "outputs": [
    {
     "data": {
      "text/plain": [
       "[Date10(2001, 12, 30)]"
      ]
     },
     "execution_count": 114,
     "metadata": {},
     "output_type": "execute_result"
    }
   ],
   "source": [
    "elementpath.select(root, 'xs:date(\"2000-10-30\") + xs:yearMonthDuration(\"P1Y2M\")')"
   ]
  },
  {
   "cell_type": "markdown",
   "id": "d3187274",
   "metadata": {},
   "source": [
    "# Conclusion\n",
    "\n",
    "XPath 2.0 brings a lot of new features to XPath, including workflow control and a bunch of new functions, which will make your life much easier.\n",
    "\n",
    "XPath 2.0 is not the newest XPath. The latest version is XPath 3.1. My next article would be XPath 3.1 with `saxonc`. You can use `saxonc` in your new projects. For legacy projects with `lxml`, you will have to use `elementpath`.\n",
    "\n",
    "This article is just a brief introductions of XPath 2.0 in python. In work, you will always reference the official documentation like a student need a dictionary."
   ]
  },
  {
   "cell_type": "markdown",
   "id": "0e8d83e4",
   "metadata": {},
   "source": [
    "# Reference\n",
    "\n",
    "[What's New in XPath 2.0](https://www.xml.com/pub/a/2002/03/20/xpath2.html)\n",
    "\n",
    "[XQuery 1.0 and XPath 2.0 Functions and Operators (Second Edition)](https://www.w3.org/TR/xquery-operators/)\n",
    "\n",
    "[elementpath documentation](https://elementpath.readthedocs.io/)\n",
    "\n"
   ]
  },
  {
   "cell_type": "code",
   "execution_count": null,
   "id": "02b50fff",
   "metadata": {},
   "outputs": [],
   "source": []
  }
 ],
 "metadata": {
  "kernelspec": {
   "display_name": "py37",
   "language": "python",
   "name": "py37"
  },
  "language_info": {
   "codemirror_mode": {
    "name": "ipython",
    "version": 3
   },
   "file_extension": ".py",
   "mimetype": "text/x-python",
   "name": "python",
   "nbconvert_exporter": "python",
   "pygments_lexer": "ipython3",
   "version": "3.8.8"
  }
 },
 "nbformat": 4,
 "nbformat_minor": 5
}
