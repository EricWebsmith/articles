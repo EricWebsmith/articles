{
 "cells": [
  {
   "cell_type": "code",
   "execution_count": 1,
   "id": "b528613a",
   "metadata": {},
   "outputs": [],
   "source": [
    "from lxml import etree\n",
    "\n",
    "# this file is downloaded from:\n",
    "# https://www.w3schools.com/xml/cd_catalog.xml\n",
    "with open(\"cd_catalog.xml\", \"rb\") as f:\n",
    "    xml_str = f.read()\n",
    "\n",
    "root = etree.XML(xml_str)"
   ]
  },
  {
   "cell_type": "code",
   "execution_count": 24,
   "id": "9ae95ba8",
   "metadata": {},
   "outputs": [],
   "source": [
    "xpath=\"\"\"\n",
    "CD[TITLE/text()='Greatest Hits']/following-sibling::CD\n",
    "CD[TITLE/text()='One night only']/preceding-sibling::CD\n",
    "\"\"\""
   ]
  },
  {
   "cell_type": "markdown",
   "id": "e9e694f4",
   "metadata": {},
   "source": [
    "# Intersect"
   ]
  },
  {
   "cell_type": "code",
   "execution_count": 36,
   "id": "29aee5a6",
   "metadata": {},
   "outputs": [
    {
     "data": {
      "text/plain": [
       "[<Element CD at 0x26e11d74480>,\n",
       " <Element CD at 0x26e11d61400>,\n",
       " <Element CD at 0x26e11d61480>,\n",
       " <Element CD at 0x26e11d614c0>]"
      ]
     },
     "execution_count": 36,
     "metadata": {},
     "output_type": "execute_result"
    }
   ],
   "source": [
    "xpath=\"\"\"\n",
    "(CD[TITLE/text()='Greatest Hits']/following-sibling::CD)[count(.|//CD[TITLE/text()='One night only']/preceding-sibling::CD)=count(//CD[TITLE/text()='One night only']/preceding-sibling::CD)]\n",
    "| CD[TITLE/text()='Greatest Hits']\n",
    "| CD[TITLE/text()='One night only']\n",
    "\"\"\"\n",
    "root.xpath(xpath)"
   ]
  },
  {
   "cell_type": "code",
   "execution_count": 37,
   "id": "c0e81122",
   "metadata": {},
   "outputs": [
    {
     "name": "stdout",
     "output_type": "stream",
     "text": [
      "1.79 ms ± 24.8 µs per loop (mean ± std. dev. of 7 runs, 1000 loops each)\n"
     ]
    }
   ],
   "source": [
    "%timeit root.xpath(xpath)"
   ]
  },
  {
   "cell_type": "code",
   "execution_count": 35,
   "id": "9552902f",
   "metadata": {},
   "outputs": [
    {
     "name": "stdout",
     "output_type": "stream",
     "text": [
      "1.79 ms ± 24.7 µs per loop (mean ± std. dev. of 7 runs, 1000 loops each)\n"
     ]
    }
   ],
   "source": []
  },
  {
   "cell_type": "code",
   "execution_count": null,
   "id": "1cf4a827",
   "metadata": {},
   "outputs": [],
   "source": []
  },
  {
   "cell_type": "code",
   "execution_count": null,
   "id": "93abcdcc",
   "metadata": {},
   "outputs": [],
   "source": []
  },
  {
   "cell_type": "code",
   "execution_count": null,
   "id": "f0a56b56",
   "metadata": {},
   "outputs": [],
   "source": []
  }
 ],
 "metadata": {
  "kernelspec": {
   "display_name": "Python 3",
   "language": "python",
   "name": "python3"
  },
  "language_info": {
   "codemirror_mode": {
    "name": "ipython",
    "version": 3
   },
   "file_extension": ".py",
   "mimetype": "text/x-python",
   "name": "python",
   "nbconvert_exporter": "python",
   "pygments_lexer": "ipython3",
   "version": "3.8.8"
  }
 },
 "nbformat": 4,
 "nbformat_minor": 5
}
